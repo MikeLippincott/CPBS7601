{
 "cells": [
  {
   "cell_type": "code",
   "execution_count": null,
   "metadata": {
    "vscode": {
     "languageId": "plaintext"
    }
   },
   "outputs": [],
   "source": [
    "import pathlib\n",
    "\n",
    "import pandas as pd \n",
    "import argparse\n",
    "\n",
    "def analyze_sequences(sequence: str) -> tuple:\n",
    "    \"\"\"\n",
    "    This function analyzes a sequence for CpG content and returns the results.\n",
    "\n",
    "    Parameters\n",
    "    ----------\n",
    "    sequence : string\n",
    "        a string of DNA sequence\n",
    "\n",
    "    Returns\n",
    "    -------\n",
    "    c_count : int\n",
    "        the number of CpG sites in the sequence\n",
    "    raw_count : int\n",
    "        the total number of C sites in the sequence\n",
    "    \"\"\"\n",
    "\n",
    "    # cast the sequence to uppercase\n",
    "    sequence = sequence.upper()\n",
    "    raw_count = 0\n",
    "    c_count = 0\n",
    "    cpg_count = 0\n",
    "    for i in enumerate(sequence):\n",
    "        if i[1] == \"X\":\n",
    "            c_count += 1\n",
    "        raw_count += 1\n",
    "    \n",
    "    return c_count, raw_count\n",
    "\n",
    "def main():\n",
    "    # set up parser for command line arguments\n",
    "    parser = argparse.ArgumentParser(description=\"Analyze DNA sequences for CpG content\")\n",
    "    parser.add_argument(\"--sequence\", help=\"A DNA sequence to analyze\")\n",
    "    args = parser.parse_args()\n",
    "    sequence = args.DNA_sequence\n",
    "    c_count, raw_count = analyze_sequences(sequence)\n",
    "    # write the results to a file\n",
    "    output_file = pathlib.Path(\"results\", \"cpg_analysis.csv\")\n",
    "    # make the results directory if it doesn't exist\n",
    "    output_file.parent.mkdir(parents=True, exist_ok=True)\n",
    "    with open(output_file, \"w\") as f:\n",
    "        f.write(f\"raw_count,c_count, sequence\\n\")\n",
    "        f.write(f\"{raw_count},{c_count},{sequence}\\n\")\n",
    "\n",
    "if __name__ == \"__main__\":\n",
    "    main()\n"
   ]
  }
 ],
 "metadata": {
  "language_info": {
   "name": "python"
  }
 },
 "nbformat": 4,
 "nbformat_minor": 2
}
